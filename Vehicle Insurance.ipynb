{
 "cells": [
  {
   "cell_type": "code",
   "execution_count": 1,
   "metadata": {
    "_cell_guid": "b1076dfc-b9ad-4769-8c92-a6c4dae69d19",
    "_uuid": "8f2839f25d086af736a60e9eeb907d3b93b6e0e5",
    "execution": {
     "iopub.execute_input": "2023-01-08T21:23:40.920593Z",
     "iopub.status.busy": "2023-01-08T21:23:40.920206Z",
     "iopub.status.idle": "2023-01-08T21:23:40.960915Z",
     "shell.execute_reply": "2023-01-08T21:23:40.960018Z",
     "shell.execute_reply.started": "2023-01-08T21:23:40.920558Z"
    }
   },
   "outputs": [
    {
     "name": "stdout",
     "output_type": "stream",
     "text": [
      "/kaggle/input/viacel/sample_submission.csv\n",
      "/kaggle/input/viacel/train.csv\n",
      "/kaggle/input/viacel/test.csv\n",
      "/kaggle/input/health-insurance-cross-sell-prediction/sample_submission.csv\n",
      "/kaggle/input/health-insurance-cross-sell-prediction/train.csv\n",
      "/kaggle/input/health-insurance-cross-sell-prediction/test.csv\n"
     ]
    }
   ],
   "source": [
    "# This Python 3 environment comes with many helpful analytics libraries installed\n",
    "# It is defined by the kaggle/python Docker image: https://github.com/kaggle/docker-python\n",
    "# For example, here's several helpful packages to load\n",
    "\n",
    " # linear algebra\n",
    "# data processing, CSV file I/O (e.g. pd.read_csv)\n",
    "\n",
    "# Input data files are available in the read-only \"../input/\" directory\n",
    "# For example, running this (by clicking run or pressing Shift+Enter) will list all files under the input directory\n",
    "\n",
    "import os\n",
    "for dirname, _, filenames in os.walk('/kaggle/input'):\n",
    "    for filename in filenames:\n",
    "        print(os.path.join(dirname, filename))\n",
    "\n",
    "# You can write up to 5GB to the current directory (/kaggle/working/) that gets preserved as output when you create a version using \"Save & Run All\" \n",
    "# You can also write temporary files to /kaggle/temp/, but they won't be saved outside of the current session"
   ]
  },
  {
   "cell_type": "code",
   "execution_count": 2,
   "metadata": {
    "execution": {
     "iopub.execute_input": "2023-01-08T21:23:43.111624Z",
     "iopub.status.busy": "2023-01-08T21:23:43.111310Z",
     "iopub.status.idle": "2023-01-08T21:23:45.260267Z",
     "shell.execute_reply": "2023-01-08T21:23:45.259455Z",
     "shell.execute_reply.started": "2023-01-08T21:23:43.111595Z"
    }
   },
   "outputs": [],
   "source": [
    "import seaborn as sns\n",
    "import numpy as np\n",
    "import pandas as pd \n",
    "import matplotlib.pyplot as plt\n",
    "from sklearn.linear_model import LogisticRegression\n",
    "from xgboost import XGBClassifier\n",
    "from sklearn.tree import DecisionTreeClassifier\n",
    "from lightgbm import LGBMClassifier\n",
    "from sklearn.ensemble import AdaBoostClassifier,RandomForestClassifier\n",
    "from sklearn.svm import SVC\n",
    "from sklearn.neighbors import KNeighborsClassifier\n",
    "from sklearn.metrics import accuracy_score, confusion_matrix,ConfusionMatrixDisplay ,classification_report\n",
    "from sklearn.model_selection import learning_curve \n",
    "from sklearn.model_selection import train_test_split"
   ]
  },
  {
   "cell_type": "code",
   "execution_count": 323,
   "metadata": {
    "_cell_guid": "79c7e3d0-c299-4dcb-8224-4455121ee9b0",
    "_uuid": "d629ff2d2480ee46fbb7e2d37f6b5fab8052498a",
    "execution": {
     "iopub.execute_input": "2023-01-08T21:50:55.427143Z",
     "iopub.status.busy": "2023-01-08T21:50:55.426817Z",
     "iopub.status.idle": "2023-01-08T21:50:55.635291Z",
     "shell.execute_reply": "2023-01-08T21:50:55.634291Z",
     "shell.execute_reply.started": "2023-01-08T21:50:55.427111Z"
    }
   },
   "outputs": [
    {
     "data": {
      "text/html": [
       "<div>\n",
       "<style scoped>\n",
       "    .dataframe tbody tr th:only-of-type {\n",
       "        vertical-align: middle;\n",
       "    }\n",
       "\n",
       "    .dataframe tbody tr th {\n",
       "        vertical-align: top;\n",
       "    }\n",
       "\n",
       "    .dataframe thead th {\n",
       "        text-align: right;\n",
       "    }\n",
       "</style>\n",
       "<table border=\"1\" class=\"dataframe\">\n",
       "  <thead>\n",
       "    <tr style=\"text-align: right;\">\n",
       "      <th></th>\n",
       "      <th>id</th>\n",
       "      <th>Gender</th>\n",
       "      <th>Age</th>\n",
       "      <th>Driving_License</th>\n",
       "      <th>Region_Code</th>\n",
       "      <th>Previously_Insured</th>\n",
       "      <th>Vehicle_Age</th>\n",
       "      <th>Vehicle_Damage</th>\n",
       "      <th>Annual_Premium</th>\n",
       "      <th>Policy_Sales_Channel</th>\n",
       "      <th>Vintage</th>\n",
       "      <th>Response</th>\n",
       "    </tr>\n",
       "  </thead>\n",
       "  <tbody>\n",
       "    <tr>\n",
       "      <th>0</th>\n",
       "      <td>508077</td>\n",
       "      <td>Male</td>\n",
       "      <td>39</td>\n",
       "      <td>1</td>\n",
       "      <td>28.0</td>\n",
       "      <td>0</td>\n",
       "      <td>1-2 Year</td>\n",
       "      <td>Yes</td>\n",
       "      <td>33670.0</td>\n",
       "      <td>124.0</td>\n",
       "      <td>133</td>\n",
       "      <td>1</td>\n",
       "    </tr>\n",
       "    <tr>\n",
       "      <th>1</th>\n",
       "      <td>116379</td>\n",
       "      <td>Male</td>\n",
       "      <td>60</td>\n",
       "      <td>1</td>\n",
       "      <td>9.0</td>\n",
       "      <td>1</td>\n",
       "      <td>1-2 Year</td>\n",
       "      <td>Yes</td>\n",
       "      <td>32660.0</td>\n",
       "      <td>26.0</td>\n",
       "      <td>64</td>\n",
       "      <td>0</td>\n",
       "    </tr>\n",
       "    <tr>\n",
       "      <th>2</th>\n",
       "      <td>24159</td>\n",
       "      <td>Female</td>\n",
       "      <td>20</td>\n",
       "      <td>1</td>\n",
       "      <td>43.0</td>\n",
       "      <td>0</td>\n",
       "      <td>&lt; 1 Year</td>\n",
       "      <td>No</td>\n",
       "      <td>2630.0</td>\n",
       "      <td>160.0</td>\n",
       "      <td>283</td>\n",
       "      <td>0</td>\n",
       "    </tr>\n",
       "    <tr>\n",
       "      <th>3</th>\n",
       "      <td>129481</td>\n",
       "      <td>Female</td>\n",
       "      <td>22</td>\n",
       "      <td>1</td>\n",
       "      <td>47.0</td>\n",
       "      <td>0</td>\n",
       "      <td>&lt; 1 Year</td>\n",
       "      <td>Yes</td>\n",
       "      <td>32665.0</td>\n",
       "      <td>26.0</td>\n",
       "      <td>42</td>\n",
       "      <td>0</td>\n",
       "    </tr>\n",
       "    <tr>\n",
       "      <th>4</th>\n",
       "      <td>469280</td>\n",
       "      <td>Male</td>\n",
       "      <td>25</td>\n",
       "      <td>1</td>\n",
       "      <td>28.0</td>\n",
       "      <td>1</td>\n",
       "      <td>&lt; 1 Year</td>\n",
       "      <td>No</td>\n",
       "      <td>21602.0</td>\n",
       "      <td>152.0</td>\n",
       "      <td>293</td>\n",
       "      <td>0</td>\n",
       "    </tr>\n",
       "  </tbody>\n",
       "</table>\n",
       "</div>"
      ],
      "text/plain": [
       "       id  Gender  Age  Driving_License  Region_Code  Previously_Insured  \\\n",
       "0  508077    Male   39                1         28.0                   0   \n",
       "1  116379    Male   60                1          9.0                   1   \n",
       "2   24159  Female   20                1         43.0                   0   \n",
       "3  129481  Female   22                1         47.0                   0   \n",
       "4  469280    Male   25                1         28.0                   1   \n",
       "\n",
       "  Vehicle_Age Vehicle_Damage  Annual_Premium  Policy_Sales_Channel  Vintage  \\\n",
       "0    1-2 Year            Yes         33670.0                 124.0      133   \n",
       "1    1-2 Year            Yes         32660.0                  26.0       64   \n",
       "2    < 1 Year             No          2630.0                 160.0      283   \n",
       "3    < 1 Year            Yes         32665.0                  26.0       42   \n",
       "4    < 1 Year             No         21602.0                 152.0      293   \n",
       "\n",
       "   Response  \n",
       "0         1  \n",
       "1         0  \n",
       "2         0  \n",
       "3         0  \n",
       "4         0  "
      ]
     },
     "execution_count": 323,
     "metadata": {},
     "output_type": "execute_result"
    }
   ],
   "source": [
    "train = pd.read_csv(\"/kaggle/input/viacel/train.csv\")\n",
    "train.head()"
   ]
  },
  {
   "cell_type": "code",
   "execution_count": 324,
   "metadata": {
    "execution": {
     "iopub.execute_input": "2023-01-08T21:50:55.788650Z",
     "iopub.status.busy": "2023-01-08T21:50:55.788353Z",
     "iopub.status.idle": "2023-01-08T21:50:55.825308Z",
     "shell.execute_reply": "2023-01-08T21:50:55.824451Z",
     "shell.execute_reply.started": "2023-01-08T21:50:55.788619Z"
    }
   },
   "outputs": [
    {
     "data": {
      "text/plain": [
       "id                      0\n",
       "Gender                  0\n",
       "Age                     0\n",
       "Driving_License         0\n",
       "Region_Code             0\n",
       "Previously_Insured      0\n",
       "Vehicle_Age             0\n",
       "Vehicle_Damage          0\n",
       "Annual_Premium          0\n",
       "Policy_Sales_Channel    0\n",
       "Vintage                 0\n",
       "Response                0\n",
       "dtype: int64"
      ]
     },
     "execution_count": 324,
     "metadata": {},
     "output_type": "execute_result"
    }
   ],
   "source": [
    "train.isnull().sum()"
   ]
  },
  {
   "cell_type": "code",
   "execution_count": 325,
   "metadata": {
    "execution": {
     "iopub.execute_input": "2023-01-08T21:50:56.107262Z",
     "iopub.status.busy": "2023-01-08T21:50:56.106935Z",
     "iopub.status.idle": "2023-01-08T21:50:56.147380Z",
     "shell.execute_reply": "2023-01-08T21:50:56.146410Z",
     "shell.execute_reply.started": "2023-01-08T21:50:56.107211Z"
    }
   },
   "outputs": [
    {
     "name": "stdout",
     "output_type": "stream",
     "text": [
      "<class 'pandas.core.frame.DataFrame'>\n",
      "RangeIndex: 244578 entries, 0 to 244577\n",
      "Data columns (total 12 columns):\n",
      " #   Column                Non-Null Count   Dtype  \n",
      "---  ------                --------------   -----  \n",
      " 0   id                    244578 non-null  int64  \n",
      " 1   Gender                244578 non-null  object \n",
      " 2   Age                   244578 non-null  int64  \n",
      " 3   Driving_License       244578 non-null  int64  \n",
      " 4   Region_Code           244578 non-null  float64\n",
      " 5   Previously_Insured    244578 non-null  int64  \n",
      " 6   Vehicle_Age           244578 non-null  object \n",
      " 7   Vehicle_Damage        244578 non-null  object \n",
      " 8   Annual_Premium        244578 non-null  float64\n",
      " 9   Policy_Sales_Channel  244578 non-null  float64\n",
      " 10  Vintage               244578 non-null  int64  \n",
      " 11  Response              244578 non-null  int64  \n",
      "dtypes: float64(3), int64(6), object(3)\n",
      "memory usage: 22.4+ MB\n"
     ]
    }
   ],
   "source": [
    "train.info()"
   ]
  },
  {
   "cell_type": "code",
   "execution_count": 326,
   "metadata": {
    "execution": {
     "iopub.execute_input": "2023-01-08T21:50:58.155621Z",
     "iopub.status.busy": "2023-01-08T21:50:58.155170Z",
     "iopub.status.idle": "2023-01-08T21:50:58.318850Z",
     "shell.execute_reply": "2023-01-08T21:50:58.318080Z",
     "shell.execute_reply.started": "2023-01-08T21:50:58.155583Z"
    }
   },
   "outputs": [],
   "source": [
    "train['Gender'] = train['Gender'].replace(to_replace = ['Male','Female'],value = [0,1])\n",
    "train['Vehicle_Damage'] = train['Vehicle_Damage'].replace(to_replace = ['Yes','No'], value = [1,0])"
   ]
  },
  {
   "cell_type": "code",
   "execution_count": 327,
   "metadata": {
    "execution": {
     "iopub.execute_input": "2023-01-08T21:51:10.957663Z",
     "iopub.status.busy": "2023-01-08T21:51:10.957042Z",
     "iopub.status.idle": "2023-01-08T21:51:10.974866Z",
     "shell.execute_reply": "2023-01-08T21:51:10.973743Z",
     "shell.execute_reply.started": "2023-01-08T21:51:10.957615Z"
    }
   },
   "outputs": [
    {
     "data": {
      "text/html": [
       "<div>\n",
       "<style scoped>\n",
       "    .dataframe tbody tr th:only-of-type {\n",
       "        vertical-align: middle;\n",
       "    }\n",
       "\n",
       "    .dataframe tbody tr th {\n",
       "        vertical-align: top;\n",
       "    }\n",
       "\n",
       "    .dataframe thead th {\n",
       "        text-align: right;\n",
       "    }\n",
       "</style>\n",
       "<table border=\"1\" class=\"dataframe\">\n",
       "  <thead>\n",
       "    <tr style=\"text-align: right;\">\n",
       "      <th></th>\n",
       "      <th>id</th>\n",
       "      <th>Gender</th>\n",
       "      <th>Age</th>\n",
       "      <th>Driving_License</th>\n",
       "      <th>Region_Code</th>\n",
       "      <th>Previously_Insured</th>\n",
       "      <th>Vehicle_Age</th>\n",
       "      <th>Vehicle_Damage</th>\n",
       "      <th>Annual_Premium</th>\n",
       "      <th>Policy_Sales_Channel</th>\n",
       "      <th>Vintage</th>\n",
       "      <th>Response</th>\n",
       "    </tr>\n",
       "  </thead>\n",
       "  <tbody>\n",
       "    <tr>\n",
       "      <th>0</th>\n",
       "      <td>508077</td>\n",
       "      <td>0</td>\n",
       "      <td>39</td>\n",
       "      <td>1</td>\n",
       "      <td>28.0</td>\n",
       "      <td>0</td>\n",
       "      <td>1-2 Year</td>\n",
       "      <td>1</td>\n",
       "      <td>33670.0</td>\n",
       "      <td>124.0</td>\n",
       "      <td>133</td>\n",
       "      <td>1</td>\n",
       "    </tr>\n",
       "    <tr>\n",
       "      <th>1</th>\n",
       "      <td>116379</td>\n",
       "      <td>0</td>\n",
       "      <td>60</td>\n",
       "      <td>1</td>\n",
       "      <td>9.0</td>\n",
       "      <td>1</td>\n",
       "      <td>1-2 Year</td>\n",
       "      <td>1</td>\n",
       "      <td>32660.0</td>\n",
       "      <td>26.0</td>\n",
       "      <td>64</td>\n",
       "      <td>0</td>\n",
       "    </tr>\n",
       "    <tr>\n",
       "      <th>2</th>\n",
       "      <td>24159</td>\n",
       "      <td>1</td>\n",
       "      <td>20</td>\n",
       "      <td>1</td>\n",
       "      <td>43.0</td>\n",
       "      <td>0</td>\n",
       "      <td>&lt; 1 Year</td>\n",
       "      <td>0</td>\n",
       "      <td>2630.0</td>\n",
       "      <td>160.0</td>\n",
       "      <td>283</td>\n",
       "      <td>0</td>\n",
       "    </tr>\n",
       "    <tr>\n",
       "      <th>3</th>\n",
       "      <td>129481</td>\n",
       "      <td>1</td>\n",
       "      <td>22</td>\n",
       "      <td>1</td>\n",
       "      <td>47.0</td>\n",
       "      <td>0</td>\n",
       "      <td>&lt; 1 Year</td>\n",
       "      <td>1</td>\n",
       "      <td>32665.0</td>\n",
       "      <td>26.0</td>\n",
       "      <td>42</td>\n",
       "      <td>0</td>\n",
       "    </tr>\n",
       "    <tr>\n",
       "      <th>4</th>\n",
       "      <td>469280</td>\n",
       "      <td>0</td>\n",
       "      <td>25</td>\n",
       "      <td>1</td>\n",
       "      <td>28.0</td>\n",
       "      <td>1</td>\n",
       "      <td>&lt; 1 Year</td>\n",
       "      <td>0</td>\n",
       "      <td>21602.0</td>\n",
       "      <td>152.0</td>\n",
       "      <td>293</td>\n",
       "      <td>0</td>\n",
       "    </tr>\n",
       "  </tbody>\n",
       "</table>\n",
       "</div>"
      ],
      "text/plain": [
       "       id  Gender  Age  Driving_License  Region_Code  Previously_Insured  \\\n",
       "0  508077       0   39                1         28.0                   0   \n",
       "1  116379       0   60                1          9.0                   1   \n",
       "2   24159       1   20                1         43.0                   0   \n",
       "3  129481       1   22                1         47.0                   0   \n",
       "4  469280       0   25                1         28.0                   1   \n",
       "\n",
       "  Vehicle_Age  Vehicle_Damage  Annual_Premium  Policy_Sales_Channel  Vintage  \\\n",
       "0    1-2 Year               1         33670.0                 124.0      133   \n",
       "1    1-2 Year               1         32660.0                  26.0       64   \n",
       "2    < 1 Year               0          2630.0                 160.0      283   \n",
       "3    < 1 Year               1         32665.0                  26.0       42   \n",
       "4    < 1 Year               0         21602.0                 152.0      293   \n",
       "\n",
       "   Response  \n",
       "0         1  \n",
       "1         0  \n",
       "2         0  \n",
       "3         0  \n",
       "4         0  "
      ]
     },
     "execution_count": 327,
     "metadata": {},
     "output_type": "execute_result"
    }
   ],
   "source": [
    "train.head()"
   ]
  },
  {
   "cell_type": "code",
   "execution_count": 328,
   "metadata": {
    "execution": {
     "iopub.execute_input": "2023-01-08T21:51:10.978037Z",
     "iopub.status.busy": "2023-01-08T21:51:10.977326Z",
     "iopub.status.idle": "2023-01-08T21:51:11.707937Z",
     "shell.execute_reply": "2023-01-08T21:51:11.707059Z",
     "shell.execute_reply.started": "2023-01-08T21:51:10.977992Z"
    }
   },
   "outputs": [
    {
     "data": {
      "image/png": "[encoded data removed]",
      "text/plain": [
       "<Figure size 1152x1152 with 2 Axes>"
      ]
     },
     "metadata": {
      "needs_background": "light"
     },
     "output_type": "display_data"
    }
   ],
   "source": [
    "plt.figure(figsize = (16,16))\n",
    "sns.heatmap(train.corr(),annot = True)\n",
    "plt.show()"
   ]
  },
  {
   "cell_type": "code",
   "execution_count": 329,
   "metadata": {
    "execution": {
     "iopub.execute_input": "2023-01-08T21:51:11.709723Z",
     "iopub.status.busy": "2023-01-08T21:51:11.709218Z",
     "iopub.status.idle": "2023-01-08T21:51:11.804105Z",
     "shell.execute_reply": "2023-01-08T21:51:11.803175Z",
     "shell.execute_reply.started": "2023-01-08T21:51:11.709686Z"
    }
   },
   "outputs": [],
   "source": [
    "train['Vehicle_Age'] = train['Vehicle_Age'].replace(to_replace = [\"1-2 Year\",\"< 1 Year\",\"> 2 Years\"], value =[1,0,2] )"
   ]
  },
  {
   "cell_type": "code",
   "execution_count": 359,
   "metadata": {
    "execution": {
     "iopub.execute_input": "2023-01-08T21:55:33.943951Z",
     "iopub.status.busy": "2023-01-08T21:55:33.943582Z",
     "iopub.status.idle": "2023-01-08T21:55:33.975896Z",
     "shell.execute_reply": "2023-01-08T21:55:33.975004Z",
     "shell.execute_reply.started": "2023-01-08T21:55:33.943919Z"
    }
   },
   "outputs": [
    {
     "data": {
      "text/html": [
       "<div>\n",
       "<style scoped>\n",
       "    .dataframe tbody tr th:only-of-type {\n",
       "        vertical-align: middle;\n",
       "    }\n",
       "\n",
       "    .dataframe tbody tr th {\n",
       "        vertical-align: top;\n",
       "    }\n",
       "\n",
       "    .dataframe thead th {\n",
       "        text-align: right;\n",
       "    }\n",
       "</style>\n",
       "<table border=\"1\" class=\"dataframe\">\n",
       "  <thead>\n",
       "    <tr style=\"text-align: right;\">\n",
       "      <th></th>\n",
       "      <th>id</th>\n",
       "      <th>Gender</th>\n",
       "      <th>Age</th>\n",
       "      <th>Driving_License</th>\n",
       "      <th>Previously_Insured</th>\n",
       "      <th>Vehicle_Age</th>\n",
       "      <th>Vehicle_Damage</th>\n",
       "      <th>Annual_Premium</th>\n",
       "      <th>Policy_Sales_Channel</th>\n",
       "      <th>Response</th>\n",
       "    </tr>\n",
       "  </thead>\n",
       "  <tbody>\n",
       "    <tr>\n",
       "      <th>0</th>\n",
       "      <td>508077</td>\n",
       "      <td>0</td>\n",
       "      <td>39</td>\n",
       "      <td>1</td>\n",
       "      <td>0</td>\n",
       "      <td>1</td>\n",
       "      <td>1</td>\n",
       "      <td>10.424363</td>\n",
       "      <td>124.0</td>\n",
       "      <td>1</td>\n",
       "    </tr>\n",
       "    <tr>\n",
       "      <th>1</th>\n",
       "      <td>116379</td>\n",
       "      <td>0</td>\n",
       "      <td>60</td>\n",
       "      <td>1</td>\n",
       "      <td>1</td>\n",
       "      <td>1</td>\n",
       "      <td>1</td>\n",
       "      <td>10.393906</td>\n",
       "      <td>26.0</td>\n",
       "      <td>0</td>\n",
       "    </tr>\n",
       "    <tr>\n",
       "      <th>2</th>\n",
       "      <td>24159</td>\n",
       "      <td>1</td>\n",
       "      <td>20</td>\n",
       "      <td>1</td>\n",
       "      <td>0</td>\n",
       "      <td>0</td>\n",
       "      <td>0</td>\n",
       "      <td>7.874739</td>\n",
       "      <td>160.0</td>\n",
       "      <td>0</td>\n",
       "    </tr>\n",
       "    <tr>\n",
       "      <th>3</th>\n",
       "      <td>129481</td>\n",
       "      <td>1</td>\n",
       "      <td>22</td>\n",
       "      <td>1</td>\n",
       "      <td>0</td>\n",
       "      <td>0</td>\n",
       "      <td>1</td>\n",
       "      <td>10.394059</td>\n",
       "      <td>26.0</td>\n",
       "      <td>0</td>\n",
       "    </tr>\n",
       "    <tr>\n",
       "      <th>4</th>\n",
       "      <td>469280</td>\n",
       "      <td>0</td>\n",
       "      <td>25</td>\n",
       "      <td>1</td>\n",
       "      <td>1</td>\n",
       "      <td>0</td>\n",
       "      <td>0</td>\n",
       "      <td>9.980541</td>\n",
       "      <td>152.0</td>\n",
       "      <td>0</td>\n",
       "    </tr>\n",
       "  </tbody>\n",
       "</table>\n",
       "</div>"
      ],
      "text/plain": [
       "       id  Gender  Age  Driving_License  Previously_Insured  Vehicle_Age  \\\n",
       "0  508077       0   39                1                   0            1   \n",
       "1  116379       0   60                1                   1            1   \n",
       "2   24159       1   20                1                   0            0   \n",
       "3  129481       1   22                1                   0            0   \n",
       "4  469280       0   25                1                   1            0   \n",
       "\n",
       "   Vehicle_Damage  Annual_Premium  Policy_Sales_Channel  Response  \n",
       "0               1       10.424363                 124.0         1  \n",
       "1               1       10.393906                  26.0         0  \n",
       "2               0        7.874739                 160.0         0  \n",
       "3               1       10.394059                  26.0         0  \n",
       "4               0        9.980541                 152.0         0  "
      ]
     },
     "execution_count": 359,
     "metadata": {},
     "output_type": "execute_result"
    }
   ],
   "source": [
    "train0 = train.drop(['Region_Code','Vintage','Annual_Premium'], axis = 1)\n",
    "#,'Annual_Premium'\n",
    "#train0[\"Annual_Premium\"]=np.log(train0[\"Annual_Premium\"])\n",
    "train0.head()"
   ]
  },
  {
   "cell_type": "code",
   "execution_count": 360,
   "metadata": {
    "execution": {
     "iopub.execute_input": "2023-01-08T21:55:40.019038Z",
     "iopub.status.busy": "2023-01-08T21:55:40.018708Z",
     "iopub.status.idle": "2023-01-08T21:55:40.045880Z",
     "shell.execute_reply": "2023-01-08T21:55:40.044959Z",
     "shell.execute_reply.started": "2023-01-08T21:55:40.019004Z"
    }
   },
   "outputs": [
    {
     "name": "stdout",
     "output_type": "stream",
     "text": [
      "               0    1     2    3    4    5    6          7      8\n",
      "0       508077.0  0.0  39.0  1.0  0.0  1.0  1.0  10.424363  124.0\n",
      "1       116379.0  0.0  60.0  1.0  1.0  1.0  1.0  10.393906   26.0\n",
      "2        24159.0  1.0  20.0  1.0  0.0  0.0  0.0   7.874739  160.0\n",
      "3       129481.0  1.0  22.0  1.0  0.0  0.0  1.0  10.394059   26.0\n",
      "4       469280.0  0.0  25.0  1.0  1.0  0.0  0.0   9.980541  152.0\n",
      "...          ...  ...   ...  ...  ...  ...  ...        ...    ...\n",
      "244573  218753.0  0.0  24.0  1.0  0.0  1.0  1.0  10.455446  122.0\n",
      "244574  318355.0  1.0  20.0  1.0  0.0  0.0  1.0  10.428512  160.0\n",
      "244575  300598.0  0.0  38.0  1.0  1.0  1.0  0.0  10.416880  122.0\n",
      "244576    8591.0  1.0  33.0  1.0  1.0  1.0  0.0  10.763948  124.0\n",
      "244577  174900.0  1.0  23.0  1.0  1.0  0.0  0.0  10.140495  152.0\n",
      "\n",
      "[244578 rows x 9 columns]\n"
     ]
    }
   ],
   "source": [
    "x = train0.iloc[:,:-1].values\n",
    "y = train0.iloc[:,-1].values\n",
    "print(pd.DataFrame(x)) "
   ]
  },
  {
   "cell_type": "code",
   "execution_count": 361,
   "metadata": {
    "execution": {
     "iopub.execute_input": "2023-01-08T21:55:41.826935Z",
     "iopub.status.busy": "2023-01-08T21:55:41.826565Z",
     "iopub.status.idle": "2023-01-08T21:55:41.938961Z",
     "shell.execute_reply": "2023-01-08T21:55:41.938015Z",
     "shell.execute_reply.started": "2023-01-08T21:55:41.826903Z"
    }
   },
   "outputs": [],
   "source": [
    "x_train,x_test,y_train,y_test = train_test_split(x,y, test_size = 0.2,random_state=100,stratify=y)"
   ]
  },
  {
   "cell_type": "code",
   "execution_count": 362,
   "metadata": {
    "execution": {
     "iopub.execute_input": "2023-01-08T21:55:44.742267Z",
     "iopub.status.busy": "2023-01-08T21:55:44.741765Z",
     "iopub.status.idle": "2023-01-08T21:55:44.748489Z",
     "shell.execute_reply": "2023-01-08T21:55:44.747537Z",
     "shell.execute_reply.started": "2023-01-08T21:55:44.742195Z"
    }
   },
   "outputs": [],
   "source": [
    "XGB = XGBClassifier(n_estimators = 50, alpha =0.5, random_state = 0,scale_pos_weight=0.6,learning_rate=0.9,gamma=8,sample_type=\"uniform\")\n",
    "#LR = LogisticRegression()\n",
    "#DTC = DecisionTreeClassifier()\n",
    "#lgb=LGBMClassifier(random_state=30,n_estimators = 1500,learning_rate=0.008,reg_alpha=1,subsample=0.5,importance_type=\"gain\")\n",
    "#ada=AdaBoostClassifier(n_estimators=1000, learning_rate=2, algorithm='SAMME.R', random_state=35, base_estimator=None)\n",
    "#svc=SVC()\n",
    "#knn=KNeighborsClassifier()\n",
    "#rf=RandomForestClassifier()\n",
    "#lgb=LGBMClassifier(boosting_type='gbdt', num_leaves=31, max_depth=-1, learning_rate=0.1, n_estimators=100, subsample_for_bin=200000, objective=None, class_weight=None, min_split_gain=0.0, min_child_weight=0.001, min_child_samples=20, subsample=1.0, subsample_freq=0, colsample_bytree=1.0, reg_alpha=0.0, reg_lambda=0.0, random_state=None, n_jobs=None, importance_type='split')"
   ]
  },
  {
   "cell_type": "code",
   "execution_count": 363,
   "metadata": {
    "execution": {
     "iopub.execute_input": "2023-01-08T21:55:44.750918Z",
     "iopub.status.busy": "2023-01-08T21:55:44.750350Z",
     "iopub.status.idle": "2023-01-08T21:55:51.728390Z",
     "shell.execute_reply": "2023-01-08T21:55:51.727452Z",
     "shell.execute_reply.started": "2023-01-08T21:55:44.750879Z"
    }
   },
   "outputs": [
    {
     "name": "stdout",
     "output_type": "stream",
     "text": [
      "[21:55:44] WARNING: ../src/learner.cc:516: \n",
      "Parameters: { sample_type } might not be used.\n",
      "\n",
      "  This may not be accurate due to some parameters are only used in language bindings but\n",
      "  passed down to XGBoost core.  Or some parameters are not used but slip through this\n",
      "  verification. Please open an issue if you find above cases.\n",
      "\n",
      "\n"
     ]
    },
    {
     "data": {
      "text/plain": [
       "XGBClassifier(alpha=0.5, base_score=0.5, booster='gbtree', colsample_bylevel=1,\n",
       "              colsample_bynode=1, colsample_bytree=1, gamma=8, gpu_id=-1,\n",
       "              importance_type='gain', interaction_constraints='',\n",
       "              learning_rate=0.9, max_delta_step=0, max_depth=6,\n",
       "              min_child_weight=1, missing=nan, monotone_constraints='()',\n",
       "              n_estimators=50, n_jobs=0, num_parallel_tree=1, random_state=0,\n",
       "              reg_alpha=0.5, reg_lambda=1, sample_type='uniform',\n",
       "              scale_pos_weight=0.6, subsample=1, tree_method='exact',\n",
       "              validate_parameters=1, verbosity=None)"
      ]
     },
     "execution_count": 363,
     "metadata": {},
     "output_type": "execute_result"
    }
   ],
   "source": [
    "XGB.fit(x_train,y_train)\n",
    "#LR.fit(x_train,y_train)\n",
    "#DTC.fit(x_train,y_train)\n",
    "#lgb.fit(x_train,y_train)\n",
    "#ada.fit(x_train,y_train)\n",
    "#svc.fit(x_train,y_train)\n",
    "#knn.fit(x_train,y_train)\n",
    "#rf.fit(x_train,y_train)"
   ]
  },
  {
   "cell_type": "code",
   "execution_count": 364,
   "metadata": {
    "execution": {
     "iopub.execute_input": "2023-01-08T21:55:51.730671Z",
     "iopub.status.busy": "2023-01-08T21:55:51.730153Z",
     "iopub.status.idle": "2023-01-08T21:55:51.763423Z",
     "shell.execute_reply": "2023-01-08T21:55:51.762722Z",
     "shell.execute_reply.started": "2023-01-08T21:55:51.730633Z"
    }
   },
   "outputs": [],
   "source": [
    "y_pred_XGB = XGB.predict(x_test)\n",
    "#y_pred_LR = LR.predict(x_test)\n",
    "#y_pred_DTC = DTC.predict(x_test)\n",
    "#y_pred_lgp=lgb.predict(x_test)\n",
    "#y_pred_ada=ada.predict(x_test)\n",
    "#y_pred_svc=svc.predict(x_test)\n",
    "#y_pred_knn=knn.predict(x_test)\n",
    "#y_pred_rf=rf.predict(x_test)"
   ]
  },
  {
   "cell_type": "code",
   "execution_count": 365,
   "metadata": {
    "execution": {
     "iopub.execute_input": "2023-01-08T21:55:51.765192Z",
     "iopub.status.busy": "2023-01-08T21:55:51.764724Z",
     "iopub.status.idle": "2023-01-08T21:55:51.775154Z",
     "shell.execute_reply": "2023-01-08T21:55:51.774190Z",
     "shell.execute_reply.started": "2023-01-08T21:55:51.765155Z"
    }
   },
   "outputs": [
    {
     "name": "stdout",
     "output_type": "stream",
     "text": [
      "xgb score :  0.8999713795077275\n"
     ]
    }
   ],
   "source": [
    "print(\"xgb score : \",accuracy_score(y_pred_XGB,y_test))\n"
   ]
  },
  {
   "cell_type": "code",
   "execution_count": 366,
   "metadata": {
    "execution": {
     "iopub.execute_input": "2023-01-08T21:55:51.776997Z",
     "iopub.status.busy": "2023-01-08T21:55:51.776424Z",
     "iopub.status.idle": "2023-01-08T21:55:51.997275Z",
     "shell.execute_reply": "2023-01-08T21:55:51.996353Z",
     "shell.execute_reply.started": "2023-01-08T21:55:51.776960Z"
    }
   },
   "outputs": [
    {
     "data": {
      "image/png": "[encoded data removed]",
      "text/plain": [
       "<Figure size 432x288 with 2 Axes>"
      ]
     },
     "metadata": {
      "needs_background": "light"
     },
     "output_type": "display_data"
    }
   ],
   "source": [
    "cm_display = ConfusionMatrixDisplay(confusion_matrix(y_test, y_pred_XGB)).plot()"
   ]
  },
  {
   "cell_type": "code",
   "execution_count": 367,
   "metadata": {
    "execution": {
     "iopub.execute_input": "2023-01-08T21:55:51.998832Z",
     "iopub.status.busy": "2023-01-08T21:55:51.998486Z",
     "iopub.status.idle": "2023-01-08T21:55:52.059160Z",
     "shell.execute_reply": "2023-01-08T21:55:52.058342Z",
     "shell.execute_reply.started": "2023-01-08T21:55:51.998786Z"
    }
   },
   "outputs": [
    {
     "name": "stdout",
     "output_type": "stream",
     "text": [
      "              precision    recall  f1-score   support\n",
      "\n",
      "           0       0.89      1.00      0.94     40913\n",
      "           1       1.00      0.39      0.56      8003\n",
      "\n",
      "    accuracy                           0.90     48916\n",
      "   macro avg       0.95      0.69      0.75     48916\n",
      "weighted avg       0.91      0.90      0.88     48916\n",
      "\n"
     ]
    }
   ],
   "source": [
    "print(classification_report(y_test, y_pred_XGB))"
   ]
  },
  {
   "cell_type": "code",
   "execution_count": 856,
   "metadata": {
    "execution": {
     "iopub.execute_input": "2023-01-07T19:40:05.441848Z",
     "iopub.status.busy": "2023-01-07T19:40:05.441504Z",
     "iopub.status.idle": "2023-01-07T19:41:23.694623Z",
     "shell.execute_reply": "2023-01-07T19:41:23.693529Z",
     "shell.execute_reply.started": "2023-01-07T19:40:05.441814Z"
    }
   },
   "outputs": [
    {
     "name": "stdout",
     "output_type": "stream",
     "text": [
      "[19:40:05] WARNING: ../src/learner.cc:516: \n",
      "Parameters: { sample_type } might not be used.\n",
      "\n",
      "  This may not be accurate due to some parameters are only used in language bindings but\n",
      "  passed down to XGBoost core.  Or some parameters are not used but slip through this\n",
      "  verification. Please open an issue if you find above cases.\n",
      "\n",
      "\n",
      "[19:40:06] WARNING: ../src/learner.cc:516: \n",
      "Parameters: { sample_type } might not be used.\n",
      "\n",
      "  This may not be accurate due to some parameters are only used in language bindings but\n",
      "  passed down to XGBoost core.  Or some parameters are not used but slip through this\n",
      "  verification. Please open an issue if you find above cases.\n",
      "\n",
      "\n",
      "[19:40:07] WARNING: ../src/learner.cc:516: \n",
      "Parameters: { sample_type } might not be used.\n",
      "\n",
      "  This may not be accurate due to some parameters are only used in language bindings but\n",
      "  passed down to XGBoost core.  Or some parameters are not used but slip through this\n",
      "  verification. Please open an issue if you find above cases.\n",
      "\n",
      "\n",
      "[19:40:10] WARNING: ../src/learner.cc:516: \n",
      "Parameters: { sample_type } might not be used.\n",
      "\n",
      "  This may not be accurate due to some parameters are only used in language bindings but\n",
      "  passed down to XGBoost core.  Or some parameters are not used but slip through this\n",
      "  verification. Please open an issue if you find above cases.\n",
      "\n",
      "\n",
      "[19:40:15] WARNING: ../src/learner.cc:516: \n",
      "Parameters: { sample_type } might not be used.\n",
      "\n",
      "  This may not be accurate due to some parameters are only used in language bindings but\n",
      "  passed down to XGBoost core.  Or some parameters are not used but slip through this\n",
      "  verification. Please open an issue if you find above cases.\n",
      "\n",
      "\n",
      "[19:40:20] WARNING: ../src/learner.cc:516: \n",
      "Parameters: { sample_type } might not be used.\n",
      "\n",
      "  This may not be accurate due to some parameters are only used in language bindings but\n",
      "  passed down to XGBoost core.  Or some parameters are not used but slip through this\n",
      "  verification. Please open an issue if you find above cases.\n",
      "\n",
      "\n",
      "[19:40:20] WARNING: ../src/learner.cc:516: \n",
      "Parameters: { sample_type } might not be used.\n",
      "\n",
      "  This may not be accurate due to some parameters are only used in language bindings but\n",
      "  passed down to XGBoost core.  Or some parameters are not used but slip through this\n",
      "  verification. Please open an issue if you find above cases.\n",
      "\n",
      "\n",
      "[19:40:23] WARNING: ../src/learner.cc:516: \n",
      "Parameters: { sample_type } might not be used.\n",
      "\n",
      "  This may not be accurate due to some parameters are only used in language bindings but\n",
      "  passed down to XGBoost core.  Or some parameters are not used but slip through this\n",
      "  verification. Please open an issue if you find above cases.\n",
      "\n",
      "\n",
      "[19:40:26] WARNING: ../src/learner.cc:516: \n",
      "Parameters: { sample_type } might not be used.\n",
      "\n",
      "  This may not be accurate due to some parameters are only used in language bindings but\n",
      "  passed down to XGBoost core.  Or some parameters are not used but slip through this\n",
      "  verification. Please open an issue if you find above cases.\n",
      "\n",
      "\n",
      "[19:40:30] WARNING: ../src/learner.cc:516: \n",
      "Parameters: { sample_type } might not be used.\n",
      "\n",
      "  This may not be accurate due to some parameters are only used in language bindings but\n",
      "  passed down to XGBoost core.  Or some parameters are not used but slip through this\n",
      "  verification. Please open an issue if you find above cases.\n",
      "\n",
      "\n",
      "[19:40:36] WARNING: ../src/learner.cc:516: \n",
      "Parameters: { sample_type } might not be used.\n",
      "\n",
      "  This may not be accurate due to some parameters are only used in language bindings but\n",
      "  passed down to XGBoost core.  Or some parameters are not used but slip through this\n",
      "  verification. Please open an issue if you find above cases.\n",
      "\n",
      "\n",
      "[19:40:37] WARNING: ../src/learner.cc:516: \n",
      "Parameters: { sample_type } might not be used.\n",
      "\n",
      "  This may not be accurate due to some parameters are only used in language bindings but\n",
      "  passed down to XGBoost core.  Or some parameters are not used but slip through this\n",
      "  verification. Please open an issue if you find above cases.\n",
      "\n",
      "\n",
      "[19:40:39] WARNING: ../src/learner.cc:516: \n",
      "Parameters: { sample_type } might not be used.\n",
      "\n",
      "  This may not be accurate due to some parameters are only used in language bindings but\n",
      "  passed down to XGBoost core.  Or some parameters are not used but slip through this\n",
      "  verification. Please open an issue if you find above cases.\n",
      "\n",
      "\n",
      "[19:40:41] WARNING: ../src/learner.cc:516: \n",
      "Parameters: { sample_type } might not be used.\n",
      "\n",
      "  This may not be accurate due to some parameters are only used in language bindings but\n",
      "  passed down to XGBoost core.  Or some parameters are not used but slip through this\n",
      "  verification. Please open an issue if you find above cases.\n",
      "\n",
      "\n",
      "[19:40:46] WARNING: ../src/learner.cc:516: \n",
      "Parameters: { sample_type } might not be used.\n",
      "\n",
      "  This may not be accurate due to some parameters are only used in language bindings but\n",
      "  passed down to XGBoost core.  Or some parameters are not used but slip through this\n",
      "  verification. Please open an issue if you find above cases.\n",
      "\n",
      "\n",
      "[19:40:51] WARNING: ../src/learner.cc:516: \n",
      "Parameters: { sample_type } might not be used.\n",
      "\n",
      "  This may not be accurate due to some parameters are only used in language bindings but\n",
      "  passed down to XGBoost core.  Or some parameters are not used but slip through this\n",
      "  verification. Please open an issue if you find above cases.\n",
      "\n",
      "\n",
      "[19:40:52] WARNING: ../src/learner.cc:516: \n",
      "Parameters: { sample_type } might not be used.\n",
      "\n",
      "  This may not be accurate due to some parameters are only used in language bindings but\n",
      "  passed down to XGBoost core.  Or some parameters are not used but slip through this\n",
      "  verification. Please open an issue if you find above cases.\n",
      "\n",
      "\n",
      "[19:40:54] WARNING: ../src/learner.cc:516: \n",
      "Parameters: { sample_type } might not be used.\n",
      "\n",
      "  This may not be accurate due to some parameters are only used in language bindings but\n",
      "  passed down to XGBoost core.  Or some parameters are not used but slip through this\n",
      "  verification. Please open an issue if you find above cases.\n",
      "\n",
      "\n",
      "[19:40:57] WARNING: ../src/learner.cc:516: \n",
      "Parameters: { sample_type } might not be used.\n",
      "\n",
      "  This may not be accurate due to some parameters are only used in language bindings but\n",
      "  passed down to XGBoost core.  Or some parameters are not used but slip through this\n",
      "  verification. Please open an issue if you find above cases.\n",
      "\n",
      "\n",
      "[19:41:02] WARNING: ../src/learner.cc:516: \n",
      "Parameters: { sample_type } might not be used.\n",
      "\n",
      "  This may not be accurate due to some parameters are only used in language bindings but\n",
      "  passed down to XGBoost core.  Or some parameters are not used but slip through this\n",
      "  verification. Please open an issue if you find above cases.\n",
      "\n",
      "\n",
      "[19:41:08] WARNING: ../src/learner.cc:516: \n",
      "Parameters: { sample_type } might not be used.\n",
      "\n",
      "  This may not be accurate due to some parameters are only used in language bindings but\n",
      "  passed down to XGBoost core.  Or some parameters are not used but slip through this\n",
      "  verification. Please open an issue if you find above cases.\n",
      "\n",
      "\n",
      "[19:41:08] WARNING: ../src/learner.cc:516: \n",
      "Parameters: { sample_type } might not be used.\n",
      "\n",
      "  This may not be accurate due to some parameters are only used in language bindings but\n",
      "  passed down to XGBoost core.  Or some parameters are not used but slip through this\n",
      "  verification. Please open an issue if you find above cases.\n",
      "\n",
      "\n",
      "[19:41:10] WARNING: ../src/learner.cc:516: \n",
      "Parameters: { sample_type } might not be used.\n",
      "\n",
      "  This may not be accurate due to some parameters are only used in language bindings but\n",
      "  passed down to XGBoost core.  Or some parameters are not used but slip through this\n",
      "  verification. Please open an issue if you find above cases.\n",
      "\n",
      "\n",
      "[19:41:13] WARNING: ../src/learner.cc:516: \n",
      "Parameters: { sample_type } might not be used.\n",
      "\n",
      "  This may not be accurate due to some parameters are only used in language bindings but\n",
      "  passed down to XGBoost core.  Or some parameters are not used but slip through this\n",
      "  verification. Please open an issue if you find above cases.\n",
      "\n",
      "\n",
      "[19:41:17] WARNING: ../src/learner.cc:516: \n",
      "Parameters: { sample_type } might not be used.\n",
      "\n",
      "  This may not be accurate due to some parameters are only used in language bindings but\n",
      "  passed down to XGBoost core.  Or some parameters are not used but slip through this\n",
      "  verification. Please open an issue if you find above cases.\n",
      "\n",
      "\n"
     ]
    },
    {
     "data": {
      "image/png": "[encoded data removed]",
      "text/plain": [
       "<Figure size 432x288 with 1 Axes>"
      ]
     },
     "metadata": {
      "needs_background": "light"
     },
     "output_type": "display_data"
    }
   ],
   "source": [
    "model =XGB\n",
    "\n",
    "train_sizes, train_scores, test_scores = learning_curve(model, x, y,scoring='accuracy')\n",
    "\n",
    "\n",
    "train_mean = np.mean(train_scores, axis=1)\n",
    "\n",
    "train_std = np.std(train_scores, axis=1)\n",
    "\n",
    "test_mean = np.mean(test_scores, axis=1)\n",
    "\n",
    "test_std = np.std(test_scores, axis=1)\n",
    "\n",
    " \n",
    "\n",
    "# Plot the learning curve\n",
    "\n",
    "plt.plot(train_sizes, train_mean, 'o-', color='r', label='Training score')\n",
    "\n",
    "plt.plot(train_sizes, test_mean, 'o-', color='g', label='Test score')\n",
    "\n",
    "plt.fill_between(train_sizes, train_mean - train_std, train_mean + train_std, alpha=0.1, color='r')\n",
    "\n",
    "plt.fill_between(train_sizes, test_mean - test_std, test_mean + test_std, alpha=0.1, color='g')\n",
    "\n",
    " \n",
    "\n",
    "plt.xlabel('Training Set Size')\n",
    "\n",
    "plt.ylabel('Accuracy Score')\n",
    "\n",
    "plt.legend(loc='lower right')\n",
    "\n",
    "plt.title('Learning Curves')\n",
    "\n",
    " \n",
    "\n",
    "plt.show()"
   ]
  },
  {
   "cell_type": "code",
   "execution_count": null,
   "metadata": {},
   "outputs": [],
   "source": [
    "\"\"\"\n",
    "xg = accuracy_score(y_pred_XGB,y_test)\n",
    "lr = accuracy_score(y_pred_LR,y_test)\n",
    "dt = accuracy_score(y_pred_DTC,y_test)\n",
    "lgb= accuracy_score(y_pred_lgp,y_test)\n",
    "ada=accuracy_score(y_pred_ada,y_test)\n",
    "svc=accuracy_score(y_pred_svc,y_test)\n",
    "kn=accuracy_score(y_pred_knn,y_test)\n",
    "rf=accuracy_score(y_pred_rf,y_test)\n",
    "\n",
    "print(\"xgb :\",xg,\"\\nlr :\",lr,\"\\ndt :\",dt,\"\\nlgb :\",lgb,\"\\nada :\",ada,\"\\nsvc :\",svc,\"\\nkn :\",kn,\"\\nrf :\",rf)\n",
    "\"\"\""
   ]
  },
  {
   "cell_type": "markdown",
   "metadata": {},
   "source": [
    "# test"
   ]
  },
  {
   "cell_type": "code",
   "execution_count": 368,
   "metadata": {
    "execution": {
     "iopub.execute_input": "2023-01-08T21:56:47.761121Z",
     "iopub.status.busy": "2023-01-08T21:56:47.760744Z",
     "iopub.status.idle": "2023-01-08T21:56:47.907631Z",
     "shell.execute_reply": "2023-01-08T21:56:47.906556Z",
     "shell.execute_reply.started": "2023-01-08T21:56:47.761086Z"
    }
   },
   "outputs": [
    {
     "data": {
      "text/html": [
       "<div>\n",
       "<style scoped>\n",
       "    .dataframe tbody tr th:only-of-type {\n",
       "        vertical-align: middle;\n",
       "    }\n",
       "\n",
       "    .dataframe tbody tr th {\n",
       "        vertical-align: top;\n",
       "    }\n",
       "\n",
       "    .dataframe thead th {\n",
       "        text-align: right;\n",
       "    }\n",
       "</style>\n",
       "<table border=\"1\" class=\"dataframe\">\n",
       "  <thead>\n",
       "    <tr style=\"text-align: right;\">\n",
       "      <th></th>\n",
       "      <th>id</th>\n",
       "      <th>Gender</th>\n",
       "      <th>Age</th>\n",
       "      <th>Driving_License</th>\n",
       "      <th>Previously_Insured</th>\n",
       "      <th>Vehicle_Age</th>\n",
       "      <th>Vehicle_Damage</th>\n",
       "      <th>Annual_Premium</th>\n",
       "      <th>Policy_Sales_Channel</th>\n",
       "    </tr>\n",
       "  </thead>\n",
       "  <tbody>\n",
       "    <tr>\n",
       "      <th>0</th>\n",
       "      <td>380337</td>\n",
       "      <td>0</td>\n",
       "      <td>30</td>\n",
       "      <td>1</td>\n",
       "      <td>1</td>\n",
       "      <td>0</td>\n",
       "      <td>0</td>\n",
       "      <td>11.017875</td>\n",
       "      <td>152.0</td>\n",
       "    </tr>\n",
       "    <tr>\n",
       "      <th>1</th>\n",
       "      <td>60095</td>\n",
       "      <td>0</td>\n",
       "      <td>40</td>\n",
       "      <td>1</td>\n",
       "      <td>0</td>\n",
       "      <td>1</td>\n",
       "      <td>1</td>\n",
       "      <td>7.874739</td>\n",
       "      <td>47.0</td>\n",
       "    </tr>\n",
       "    <tr>\n",
       "      <th>2</th>\n",
       "      <td>491957</td>\n",
       "      <td>1</td>\n",
       "      <td>40</td>\n",
       "      <td>1</td>\n",
       "      <td>0</td>\n",
       "      <td>1</td>\n",
       "      <td>1</td>\n",
       "      <td>10.543287</td>\n",
       "      <td>124.0</td>\n",
       "    </tr>\n",
       "    <tr>\n",
       "      <th>3</th>\n",
       "      <td>42481</td>\n",
       "      <td>0</td>\n",
       "      <td>51</td>\n",
       "      <td>1</td>\n",
       "      <td>0</td>\n",
       "      <td>1</td>\n",
       "      <td>1</td>\n",
       "      <td>10.346537</td>\n",
       "      <td>124.0</td>\n",
       "    </tr>\n",
       "    <tr>\n",
       "      <th>4</th>\n",
       "      <td>25992</td>\n",
       "      <td>0</td>\n",
       "      <td>24</td>\n",
       "      <td>1</td>\n",
       "      <td>1</td>\n",
       "      <td>0</td>\n",
       "      <td>0</td>\n",
       "      <td>9.932464</td>\n",
       "      <td>152.0</td>\n",
       "    </tr>\n",
       "    <tr>\n",
       "      <th>...</th>\n",
       "      <td>...</td>\n",
       "      <td>...</td>\n",
       "      <td>...</td>\n",
       "      <td>...</td>\n",
       "      <td>...</td>\n",
       "      <td>...</td>\n",
       "      <td>...</td>\n",
       "      <td>...</td>\n",
       "      <td>...</td>\n",
       "    </tr>\n",
       "    <tr>\n",
       "      <th>61140</th>\n",
       "      <td>287750</td>\n",
       "      <td>0</td>\n",
       "      <td>46</td>\n",
       "      <td>1</td>\n",
       "      <td>0</td>\n",
       "      <td>1</td>\n",
       "      <td>1</td>\n",
       "      <td>10.699372</td>\n",
       "      <td>26.0</td>\n",
       "    </tr>\n",
       "    <tr>\n",
       "      <th>61141</th>\n",
       "      <td>80519</td>\n",
       "      <td>1</td>\n",
       "      <td>25</td>\n",
       "      <td>1</td>\n",
       "      <td>1</td>\n",
       "      <td>0</td>\n",
       "      <td>0</td>\n",
       "      <td>10.531643</td>\n",
       "      <td>152.0</td>\n",
       "    </tr>\n",
       "    <tr>\n",
       "      <th>61142</th>\n",
       "      <td>314520</td>\n",
       "      <td>0</td>\n",
       "      <td>56</td>\n",
       "      <td>1</td>\n",
       "      <td>0</td>\n",
       "      <td>1</td>\n",
       "      <td>1</td>\n",
       "      <td>10.750600</td>\n",
       "      <td>26.0</td>\n",
       "    </tr>\n",
       "    <tr>\n",
       "      <th>61143</th>\n",
       "      <td>60089</td>\n",
       "      <td>0</td>\n",
       "      <td>23</td>\n",
       "      <td>1</td>\n",
       "      <td>1</td>\n",
       "      <td>0</td>\n",
       "      <td>0</td>\n",
       "      <td>10.760453</td>\n",
       "      <td>152.0</td>\n",
       "    </tr>\n",
       "    <tr>\n",
       "      <th>61144</th>\n",
       "      <td>110405</td>\n",
       "      <td>0</td>\n",
       "      <td>41</td>\n",
       "      <td>1</td>\n",
       "      <td>0</td>\n",
       "      <td>1</td>\n",
       "      <td>1</td>\n",
       "      <td>10.336341</td>\n",
       "      <td>124.0</td>\n",
       "    </tr>\n",
       "  </tbody>\n",
       "</table>\n",
       "<p>61145 rows × 9 columns</p>\n",
       "</div>"
      ],
      "text/plain": [
       "           id  Gender  Age  Driving_License  Previously_Insured  Vehicle_Age  \\\n",
       "0      380337       0   30                1                   1            0   \n",
       "1       60095       0   40                1                   0            1   \n",
       "2      491957       1   40                1                   0            1   \n",
       "3       42481       0   51                1                   0            1   \n",
       "4       25992       0   24                1                   1            0   \n",
       "...       ...     ...  ...              ...                 ...          ...   \n",
       "61140  287750       0   46                1                   0            1   \n",
       "61141   80519       1   25                1                   1            0   \n",
       "61142  314520       0   56                1                   0            1   \n",
       "61143   60089       0   23                1                   1            0   \n",
       "61144  110405       0   41                1                   0            1   \n",
       "\n",
       "       Vehicle_Damage  Annual_Premium  Policy_Sales_Channel  \n",
       "0                   0       11.017875                 152.0  \n",
       "1                   1        7.874739                  47.0  \n",
       "2                   1       10.543287                 124.0  \n",
       "3                   1       10.346537                 124.0  \n",
       "4                   0        9.932464                 152.0  \n",
       "...               ...             ...                   ...  \n",
       "61140               1       10.699372                  26.0  \n",
       "61141               0       10.531643                 152.0  \n",
       "61142               1       10.750600                  26.0  \n",
       "61143               0       10.760453                 152.0  \n",
       "61144               1       10.336341                 124.0  \n",
       "\n",
       "[61145 rows x 9 columns]"
      ]
     },
     "execution_count": 368,
     "metadata": {},
     "output_type": "execute_result"
    }
   ],
   "source": [
    "test= pd.read_csv(\"/kaggle/input/viacel/test.csv\")\n",
    "\n",
    "test['Gender'] = test['Gender'].replace(to_replace = ['Male','Female'],value = [0,1])\n",
    "test['Vehicle_Damage'] = test['Vehicle_Damage'].replace(to_replace = ['Yes','No'], value = [1,0])\n",
    "test['Vehicle_Age'] = test['Vehicle_Age'].replace(to_replace = [\"1-2 Year\",\"< 1 Year\",\"> 2 Years\"], value =[1,0,2] )\n",
    "test = test.drop(['Region_Code','Vintage','Annual_Premium'], axis = 1)\n",
    "#test[\"Annual_Premium\"]=np.log(test[\"Annual_Premium\"])\n",
    "#,'Annual_Premium'\n",
    "\n",
    "\n",
    "test"
   ]
  },
  {
   "cell_type": "code",
   "execution_count": 369,
   "metadata": {
    "execution": {
     "iopub.execute_input": "2023-01-08T21:56:50.382851Z",
     "iopub.status.busy": "2023-01-08T21:56:50.382469Z",
     "iopub.status.idle": "2023-01-08T21:56:50.391231Z",
     "shell.execute_reply": "2023-01-08T21:56:50.390346Z",
     "shell.execute_reply.started": "2023-01-08T21:56:50.382801Z"
    }
   },
   "outputs": [
    {
     "data": {
      "text/plain": [
       "array([[3.80337000e+05, 0.00000000e+00, 3.00000000e+01, ...,\n",
       "        0.00000000e+00, 1.10178748e+01, 1.52000000e+02],\n",
       "       [6.00950000e+04, 0.00000000e+00, 4.00000000e+01, ...,\n",
       "        1.00000000e+00, 7.87473913e+00, 4.70000000e+01],\n",
       "       [4.91957000e+05, 1.00000000e+00, 4.00000000e+01, ...,\n",
       "        1.00000000e+00, 1.05432867e+01, 1.24000000e+02],\n",
       "       ...,\n",
       "       [3.14520000e+05, 0.00000000e+00, 5.60000000e+01, ...,\n",
       "        1.00000000e+00, 1.07505997e+01, 2.60000000e+01],\n",
       "       [6.00890000e+04, 0.00000000e+00, 2.30000000e+01, ...,\n",
       "        0.00000000e+00, 1.07604528e+01, 1.52000000e+02],\n",
       "       [1.10405000e+05, 0.00000000e+00, 4.10000000e+01, ...,\n",
       "        1.00000000e+00, 1.03363408e+01, 1.24000000e+02]])"
      ]
     },
     "execution_count": 369,
     "metadata": {},
     "output_type": "execute_result"
    }
   ],
   "source": [
    "test0 = test.iloc[:,:].values \n",
    "test0"
   ]
  },
  {
   "cell_type": "code",
   "execution_count": 371,
   "metadata": {
    "execution": {
     "iopub.execute_input": "2023-01-08T21:56:56.422788Z",
     "iopub.status.busy": "2023-01-08T21:56:56.422232Z",
     "iopub.status.idle": "2023-01-08T21:56:56.479011Z",
     "shell.execute_reply": "2023-01-08T21:56:56.478264Z",
     "shell.execute_reply.started": "2023-01-08T21:56:56.422742Z"
    }
   },
   "outputs": [],
   "source": [
    "y_pred = XGB.predict(test0)"
   ]
  },
  {
   "cell_type": "code",
   "execution_count": 372,
   "metadata": {
    "execution": {
     "iopub.execute_input": "2023-01-08T21:57:03.102016Z",
     "iopub.status.busy": "2023-01-08T21:57:03.101692Z",
     "iopub.status.idle": "2023-01-08T21:57:03.106738Z",
     "shell.execute_reply": "2023-01-08T21:57:03.105840Z",
     "shell.execute_reply.started": "2023-01-08T21:57:03.101984Z"
    }
   },
   "outputs": [],
   "source": [
    "submission = pd.DataFrame(y_pred,test['id'])"
   ]
  },
  {
   "cell_type": "code",
   "execution_count": 373,
   "metadata": {
    "execution": {
     "iopub.execute_input": "2023-01-08T21:57:03.305687Z",
     "iopub.status.busy": "2023-01-08T21:57:03.305386Z",
     "iopub.status.idle": "2023-01-08T21:57:03.311859Z",
     "shell.execute_reply": "2023-01-08T21:57:03.310364Z",
     "shell.execute_reply.started": "2023-01-08T21:57:03.305659Z"
    }
   },
   "outputs": [],
   "source": [
    "submission = submission.rename(columns = {0:'Response'})"
   ]
  },
  {
   "cell_type": "code",
   "execution_count": 374,
   "metadata": {
    "execution": {
     "iopub.execute_input": "2023-01-08T21:57:04.290744Z",
     "iopub.status.busy": "2023-01-08T21:57:04.290414Z",
     "iopub.status.idle": "2023-01-08T21:57:04.370205Z",
     "shell.execute_reply": "2023-01-08T21:57:04.369334Z",
     "shell.execute_reply.started": "2023-01-08T21:57:04.290713Z"
    }
   },
   "outputs": [],
   "source": [
    "submission.to_csv('./submission41.csv')"
   ]
  },
  {
   "cell_type": "code",
   "execution_count": null,
   "metadata": {},
   "outputs": [],
   "source": []
  }
 ],
 "metadata": {
  "kernelspec": {
   "display_name": "Python 3 (ipykernel)",
   "language": "python",
   "name": "python3"
  },
  "language_info": {
   "codemirror_mode": {
    "name": "ipython",
    "version": 3
   },
   "file_extension": ".py",
   "mimetype": "text/x-python",
   "name": "python",
   "nbconvert_exporter": "python",
   "pygments_lexer": "ipython3",
   "version": "3.9.13"
  }
 },
 "nbformat": 4,
 "nbformat_minor": 4
}
